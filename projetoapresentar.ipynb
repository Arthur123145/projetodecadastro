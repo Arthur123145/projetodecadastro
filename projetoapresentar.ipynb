{
  "nbformat": 4,
  "nbformat_minor": 0,
  "metadata": {
    "colab": {
      "provenance": []
    },
    "kernelspec": {
      "name": "python3",
      "display_name": "Python 3"
    },
    "language_info": {
      "name": "python"
    }
  },
  "cells": [
    {
      "cell_type": "code",
      "execution_count": null,
      "metadata": {
        "id": "X-y63F7EVQyl"
      },
      "outputs": [],
      "source": [
        "#Faça seu cadastro\n",
        "def calcular_media_idade(usuarios):\n",
        "    total_idade = 0\n",
        "    for usuario in usuarios:\n",
        "        total_idade += usuario['Idade']\n",
        "    media_idade = total_idade / len(usuarios)\n",
        "    return media_idade\n",
        "\n",
        "l1 = ['Nome', 'Idade', 'Altura', 'Gênero', 'Cargo']\n",
        "usuarios = []\n",
        "\n",
        "while True:\n",
        "    c = int(input('Digite a quantidade de pessoas que deseja cadastrar: '))\n",
        "    for i in range(c):\n",
        "        l2 = []\n",
        "        nm = str(input(f'Digite nome de usuário que deseja cadastrar {i+1}: '))\n",
        "        l2.append(nm)\n",
        "        idd = int(input(f'Informe a idade de {nm}: '))\n",
        "        l2.append(idd)\n",
        "        alt = float(input(f'Informe a altura de {nm}: '))\n",
        "        l2.append(alt)\n",
        "        gnr = str(input('Digite M para masculino e F para feminino: '))\n",
        "        if gnr == 'F':\n",
        "            l2.append('Feminino')\n",
        "        elif gnr == 'M':\n",
        "            l2.append('Masculino')\n",
        "        crg = int(input('Informe o tipo de usuário \\n 1 - para administrador \\n 2 - para usuário comum \\n 3 - para membro convidado: '))\n",
        "        if crg == 1:\n",
        "            crg = 'Administrador'\n",
        "        elif crg == 2:\n",
        "            crg = 'Usuário Comum'\n",
        "        elif crg == 3:\n",
        "            crg = 'Convidado'\n",
        "        l2.append(crg)\n",
        "\n",
        "        lis = dict(zip(l1, l2))\n",
        "        usuarios.append(lis)\n",
        "\n",
        "    rpt = int(input('Digite \\n1 para ver usuários cadastrados Digite o \\n2 para sair do Programa'))\n",
        "    if rpt == 1:\n",
        "        for usuario in usuarios:\n",
        "            print(usuario)\n",
        "        print(f\"A média de idade dos usuários cadastrados é {calcular_media_idade(usuarios)}\")\n",
        "        break\n",
        "    elif rpt == 2:\n",
        "        print(f\"A média de idade dos usuários cadastrados é {calcular_media_idade(usuarios)}\")\n",
        "        break\n",
        "        \n",
        "        \n",
        "            "
      ]
    }
  ]
}